{
 "cells": [
  {
   "cell_type": "code",
   "execution_count": 178,
   "metadata": {},
   "outputs": [],
   "source": [
    "import random\n",
    "def get_n_states_at_random(n,numStates):\n",
    "    states_list = [] \n",
    "    for i in range(n):\n",
    "        rand_state = random.randint(0,numStates)\n",
    "        while rand_state in states_list: \n",
    "            rand_state = random.randint(0,numStates)\n",
    "        states_list.append(rand_state)\n",
    "    return states_list "
   ]
  },
  {
   "cell_type": "code",
   "execution_count": 179,
   "metadata": {},
   "outputs": [],
   "source": [
    "def get_labels(prism_model_lines):\n",
    "    labels={}\n",
    "    text_to_find = \"label\"\n",
    "    text_to_scrap = \"WayPoint\"\n",
    "    text_to_scrap2 = \"waypoint\"\n",
    "    for i in range(len(prism_model_lines)):\n",
    "        line = prism_model_lines[i]\n",
    "        if text_to_find in line:\n",
    "            if text_to_scrap in line and text_to_scrap2 in line:\n",
    "                wp_name = line[line.find(\"WayPoint\"):line.rfind('\"')]\n",
    "                #print wp_name \n",
    "                wp_num = line[line.find(\"(\")+1:line.find(\")\")]\n",
    "                #print wp_num \n",
    "                wp_name = wp_name[len(text_to_scrap):]\n",
    "                wp_num = wp_num[len(text_to_scrap2+\"=\"):]\n",
    "                #print wp_name \n",
    "                #print wp_num\n",
    "                labels[int(wp_name)]=int(wp_num)\n",
    "    return labels"
   ]
  },
  {
   "cell_type": "code",
   "execution_count": 180,
   "metadata": {},
   "outputs": [],
   "source": [
    "def get_lines(prism_model_lines,startword,endword):\n",
    "    start = -1\n",
    "    end = -1\n",
    "    for i in range(len(prism_model_lines)):\n",
    "        line = prism_model_lines[i]\n",
    "        if endword in line: \n",
    "            end = i\n",
    "        elif startword in line:\n",
    "            start = i \n",
    "        if (start != -1 and end != -1):\n",
    "            break \n",
    "    return (start+1,end,prism_model_lines[start+1:end])    "
   ]
  },
  {
   "cell_type": "code",
   "execution_count": 181,
   "metadata": {},
   "outputs": [],
   "source": [
    "def get_module_lines(prism_model_lines):\n",
    "    return get_lines(prism_model_lines,\"module\",\"endmodule\")"
   ]
  },
  {
   "cell_type": "code",
   "execution_count": 182,
   "metadata": {},
   "outputs": [],
   "source": [
    "def get_reward_lines(prism_model_lines):\n",
    "    return get_lines(prism_model_lines,\"rewards\",\"endrewards\")"
   ]
  },
  {
   "cell_type": "code",
   "execution_count": 183,
   "metadata": {},
   "outputs": [],
   "source": [
    "def add_failure_to_states(state, module_lines):\n",
    "    print \"Adding failstates to \"+str(state)\n",
    "    state_line = \"1.0:(waypoint'=\"+str(state)+\")\"\n",
    "    rep_line = \"p:(waypoint'=\"+str(state)+\") + (1-p):(waypoint'=failstate)\"\n",
    "    new_module_lines = []\n",
    "    for line in module_lines:\n",
    "        if state_line in line:\n",
    "            line = line.replace(state_line,rep_line)\n",
    "        new_module_lines.append(line)\n",
    "    return new_module_lines"
   ]
  },
  {
   "cell_type": "code",
   "execution_count": 184,
   "metadata": {},
   "outputs": [],
   "source": [
    "def add_door_to_oneside(doornum,state1,state2,module_lines):\n",
    "    print \"Adding door\"+str(doornum)+\" to \" +str(state1) +\" and \"+str(state2)\n",
    "    #add doors to state 1 \n",
    "    #so look for waypoint=state1 \n",
    "    state_line = \"(waypoint=\"+str(state1)+\")\"\n",
    "    rep_line = \"(waypoint=\"+str(state1)+\") & (door\"+str(doornum)+\"=open)\"\n",
    "    state_line2 = \"waypoint'=\"+str(state2)\n",
    "    new_module_lines = [] \n",
    "    for line in module_lines:\n",
    "        if state_line in line:\n",
    "            print line\n",
    "            if state_line2 in line: \n",
    "                print line\n",
    "                line = line.replace(state_line,rep_line) \n",
    "        new_module_lines.append(line)\n",
    "    return new_module_lines"
   ]
  },
  {
   "cell_type": "code",
   "execution_count": 185,
   "metadata": {},
   "outputs": [],
   "source": [
    "def add_door_check(doornum,state1,state2,module_lines,reward_lines):\n",
    "    door_check_action = \"checkdoor\"+str(doornum)\n",
    "    #'Hey %(name)s, there is a 0x%(errno)x error!' % {\n",
    "    #\"name\": name, \"errno\": errno }\n",
    "    print state1 \n",
    "    print state2\n",
    "    line_to_add=\"[checkdoor%(doorno)d] (waypoint=%(state)d) & (door%(doorno)d=unknown) -> p:(door%(doorno)d'=open) + (1-p):(door%(doorno)d'=closed);\\n\" % {\"doorno\":doornum,\"state\":state1}\n",
    "    print line_to_add\n",
    "    module_lines.append(line_to_add)\n",
    "    line_to_add=\"[checkdoor%(doorno)d] (waypoint=%(state)d) & (door%(doorno)d=unknown) -> p:(door%(doorno)d'=open) + (1-p):(door%(doorno)d'=closed);\\n\" % {\"doorno\":doornum,\"state\":state2}\n",
    "    print line_to_add\n",
    "    module_lines.append(line_to_add)\n",
    "    line_to_add=\"[checkdoor%(doorno)d] (waypoint=%(state)d) & (door%(doorno)d=unknown):1.0;\\n\" % {\"doorno\":doornum,\"state\":state1}\n",
    "    print line_to_add\n",
    "    reward_lines.append(line_to_add)\n",
    "    line_to_add=\"[checkdoor%(doorno)d] (waypoint=%(state)d) & (door%(doorno)d=unknown):1.0;\\n\" % {\"doorno\":doornum,\"state\":state2}\n",
    "    print line_to_add\n",
    "    reward_lines.append(line_to_add)\n",
    "    return (module_lines,reward_lines)"
   ]
  },
  {
   "cell_type": "code",
   "execution_count": 186,
   "metadata": {},
   "outputs": [],
   "source": [
    "#doornum=1\n",
    "#state1 = 2\n",
    "#line_to_add=\"[checkdoor%(doorno)x] (waypoint=%(state)x) & (door%(doorno)x=unknown) -> p:(door%(doorno)x'=open) + (1-p):(door%(doorno)x'=closed);\" % {\"doorno\":doornum,\"state\":state1}\n",
    "#print line_to_add"
   ]
  },
  {
   "cell_type": "code",
   "execution_count": 187,
   "metadata": {},
   "outputs": [],
   "source": [
    "def add_door_to_bothsides(doornum,state1,state2,module_lines,reward_lines):\n",
    "    module_lines = add_door_to_oneside(doornum,state1,state2,module_lines)\n",
    "    module_lines = add_door_to_oneside(doornum,state2,state1,module_lines)\n",
    "    print state1 \n",
    "    print state2\n",
    "    return add_door_check(doornum,state1,state2,module_lines,reward_lines)"
   ]
  },
  {
   "cell_type": "code",
   "execution_count": 188,
   "metadata": {},
   "outputs": [],
   "source": [
    "def create_new_prism_model_lines(new_module_lines,module_start,module_end,prism_model_lines):\n",
    "    new_prism_model = list(prism_model_lines)\n",
    "    new_prism_model[module_start:module_end]=new_module_lines\n",
    "    return new_prism_model"
   ]
  },
  {
   "cell_type": "code",
   "execution_count": 189,
   "metadata": {},
   "outputs": [],
   "source": [
    "def create_new_prism_model_lines(new_module_lines,module_start,module_end,new_reward_lines,reward_start,reward_end,prism_model_lines):\n",
    "    temp_new_prism_model = list(prism_model_lines)\n",
    "    new_prism_model = temp_new_prism_model[0:module_start]\n",
    "    for i in range(len(new_module_lines)):\n",
    "        new_prism_model.append(new_module_lines[i])\n",
    "    for i in range(module_end,reward_start):\n",
    "        new_prism_model.append(temp_new_prism_model[i])\n",
    "    #new_prism_model[module_start:module_end]=new_module_lines\n",
    "    for i in range(len(new_reward_lines)):\n",
    "        new_prism_model.append(new_reward_lines[i])\n",
    "    #new_prism_model[reward_start:reward_end]=new_reward_lines\n",
    "    for i in range(reward_end,len(temp_new_prism_model)):\n",
    "        new_prism_model.append(temp_new_prism_model[i])\n",
    "    return new_prism_model"
   ]
  },
  {
   "cell_type": "code",
   "execution_count": 190,
   "metadata": {},
   "outputs": [],
   "source": [
    "def write_model_to_file(filename,model_lines):\n",
    "    f=open(filename,\"w\")\n",
    "    f.writelines(model_lines)\n",
    "    f.close()\n",
    "\n",
    "def create_model_name(filename,suffix,model_ext):\n",
    "    nfilename = filename+\"_\"+suffix+model_ext#filename+\"_fs\"+str(num_fail_states)+model_ext   \n",
    "    return nfilename"
   ]
  },
  {
   "cell_type": "code",
   "execution_count": 191,
   "metadata": {},
   "outputs": [],
   "source": [
    "def get_init_state_for_model_num(init_states,num_model):\n",
    "    #init_states = [21,24,6,15,5,1,19,8]\n",
    "    return init_states[num_model]"
   ]
  },
  {
   "cell_type": "code",
   "execution_count": 192,
   "metadata": {},
   "outputs": [],
   "source": [
    "def modify_init_line(module_lines,num_model,init_states):\n",
    "    init_line_text=\"waypoint\"\n",
    "    init_line_text2=\"init\"\n",
    "    for i in range(len(module_lines)):\n",
    "        if (init_line_text in module_lines[i] and init_line_text2 in module_lines[i]):\n",
    "            init_start_index = module_lines[i].find(\"init \")\n",
    "            temptext = module_lines[i][:init_start_index+len(\"init \")]\n",
    "            module_lines[i]=temptext+str(get_init_state_for_model_num(init_states,num_model))+\";\\n\"\n",
    "            break\n",
    "    return module_lines        "
   ]
  },
  {
   "cell_type": "code",
   "execution_count": 200,
   "metadata": {},
   "outputs": [],
   "source": [
    "def add_door_variables_to_init(module_lines,num_doors):\n",
    "    new_module_lines = [] \n",
    "    init_line_text=\"waypoint\"\n",
    "    init_line_text2=\"init\"\n",
    "    restart_from = -1\n",
    "    for i in range(len(module_lines)):\n",
    "        if (init_line_text in module_lines[i] and init_line_text2 in module_lines[i]):\n",
    "            restart_from = i; \n",
    "            break\n",
    "        else:\n",
    "            new_module_lines.append(module_lines[i])\n",
    "    for i in range(num_doors):\n",
    "        line_to_add = \"door%d:[unknown..open] init unknown;\\n\" % (i)\n",
    "        new_module_lines.append(line_to_add)\n",
    "    for i in range(restart_from,len(module_lines)):\n",
    "        new_module_lines.append(module_lines[i])\n",
    "    return new_module_lines\n",
    "    "
   ]
  },
  {
   "cell_type": "code",
   "execution_count": 201,
   "metadata": {},
   "outputs": [],
   "source": [
    "def create_new_prism_model(folder,new_folder,filename,new_filename_suffix,prism_model_ext,numStates,\n",
    "                           states_to_fail_at,num_models,init_states,convert_states_from_labels,door_states):\n",
    "    #read in the model and extract the module bit\n",
    "    prism_model_file = open(folder+filename+prism_model_ext)\n",
    "    prism_model_lines = prism_model_file.readlines()\n",
    "    prism_model_file.close()\n",
    "    module_start,module_end,module_lines = get_module_lines(prism_model_lines)\n",
    "    reward_start,reward_end,reward_lines = get_reward_lines(prism_model_lines)\n",
    "    labels = get_labels(prism_model_lines)\n",
    "    #generate states to fail at\n",
    "    #states_to_fail_at=get_n_states_at_random(num_rand_states,numStates)\n",
    "    if convert_states_from_labels:\n",
    "        for i in range(len(states_to_fail_at)):\n",
    "            states_to_fail_at[i]=labels[states_to_fail_at[i]]\n",
    "        for i in range(len(init_states)):\n",
    "            init_states[i]=labels[init_states[i]]\n",
    "        print \"New States To Fail At\"\n",
    "        print states_to_fail_at\n",
    "        print \"New Init States\"\n",
    "        print init_states\n",
    "            \n",
    "    #create the new model \n",
    "    for i in range(len(states_to_fail_at)):\n",
    "        state_to_look_at = states_to_fail_at[i]\n",
    "        new_module_lines=add_failure_to_states(state_to_look_at,module_lines)\n",
    "        module_lines = new_module_lines\n",
    "    \n",
    "    for i in range(len(door_states)):\n",
    "        door_states_pair = door_states[i]\n",
    "        print \"Adding doors to \"+str(door_states_pair)\n",
    "        state1 = door_states_pair[0]\n",
    "        state1 = labels[state1]\n",
    "        state2 = door_states_pair[1]\n",
    "        state2 = labels[state2]\n",
    "        \n",
    "        doornum = i\n",
    "        (new_module_lines,new_reward_lines) = add_door_to_bothsides(doornum,state1,state2,module_lines,reward_lines)\n",
    "        #print new_module_lines\n",
    "        #print new_reward_lines \n",
    "        #raw_input()\n",
    "        module_lines = new_module_lines\n",
    "        reward_lines = new_reward_lines\n",
    "    new_module_lines=add_door_variables_to_init(module_lines,len(door_states))\n",
    "    new_prism_model_lines = create_new_prism_model_lines(new_module_lines,module_start,module_end,new_reward_lines,reward_start,reward_end,prism_model_lines)\n",
    "    \n",
    "    for i in range(num_models):\n",
    "        new_prism_model_lines = modify_init_line(new_prism_model_lines,i,init_states)\n",
    "        #write to file\n",
    "        new_filename = create_model_name(new_folder+filename,new_filename_suffix+str(i),prism_model_ext)\n",
    "        write_model_to_file(new_filename,new_prism_model_lines)"
   ]
  },
  {
   "cell_type": "code",
   "execution_count": 205,
   "metadata": {},
   "outputs": [],
   "source": [
    "folder = \"../decomp_tests/\"\n",
    "filename = \"grid_3_topomap\"#\"grid_2_topomap\"#\"grid_map_topmap\"\n",
    "prism_model_ext = \".prism\"\n",
    "#we know that there are 0 to 28 states \n",
    "numStates = 33 \n",
    "num_models = 4\n",
    "init_states=[19,3,49,30]#[57,50,34,43]\n",
    "states_to_fail_at=[8,22,27,28,36,47,59]#[63,59,64,61,62,60]\n",
    "#door_states=[(22,24),(29,26),(4,53),(57,60)]\n",
    "door_states=[(22,24),(57,60)]\n",
    "filename_suffix = \"sim_doors\"\n"
   ]
  },
  {
   "cell_type": "code",
   "execution_count": 206,
   "metadata": {},
   "outputs": [
    {
     "name": "stdout",
     "output_type": "stream",
     "text": [
      "New States To Fail At\n",
      "[12, 27, 32, 33, 37, 55, 5]\n",
      "New Init States\n",
      "[25, 10, 53, 38]\n",
      "Adding failstates to 12\n",
      "Adding failstates to 27\n",
      "Adding failstates to 32\n",
      "Adding failstates to 33\n",
      "Adding failstates to 37\n",
      "Adding failstates to 55\n",
      "Adding failstates to 5\n",
      "Adding doors to (22, 24)\n",
      "Adding door0 to 27 and 29\n",
      "[WayPoint22_WayPoint23] (waypoint=27) -> 1.0:(waypoint'=26);\n",
      "\n",
      "[WayPoint22_WayPoint21] (waypoint=27) -> 1.0:(waypoint'=28);\n",
      "\n",
      "[WayPoint22_WayPoint24] (waypoint=27) -> 1.0:(waypoint'=29);\n",
      "\n",
      "[WayPoint22_WayPoint24] (waypoint=27) -> 1.0:(waypoint'=29);\n",
      "\n",
      "Adding door0 to 29 and 27\n",
      "[WayPoint24_WayPoint22] (waypoint=29) -> p:(waypoint'=27) + (1-p):(waypoint'=failstate);\n",
      "\n",
      "[WayPoint24_WayPoint22] (waypoint=29) -> p:(waypoint'=27) + (1-p):(waypoint'=failstate);\n",
      "\n",
      "[WayPoint24_WayPoint25] (waypoint=29) -> 1.0:(waypoint'=30);\n",
      "\n",
      "[WayPoint24_WayPoint56] (waypoint=29) -> 1.0:(waypoint'=31);\n",
      "\n",
      "27\n",
      "29\n",
      "27\n",
      "29\n",
      "[checkdoor0] (waypoint=27) & (door0=unknown) -> p:(door0'=open) + (1-p):(door0'=closed);\n",
      "\n",
      "[checkdoor0] (waypoint=29) & (door0=unknown) -> p:(door0'=open) + (1-p):(door0'=closed);\n",
      "\n",
      "[checkdoor0] (waypoint=27) & (door0=unknown):1.0;\n",
      "\n",
      "[checkdoor0] (waypoint=29) & (door0=unknown):1.0;\n",
      "\n",
      "Adding doors to (57, 60)\n",
      "Adding door1 to 59 and 58\n",
      "[WayPoint57_WayPoint46] (waypoint=59) -> 1.0:(waypoint'=56);\n",
      "\n",
      "[WayPoint57_WayPoint54] (waypoint=59) -> 1.0:(waypoint'=3);\n",
      "\n",
      "[WayPoint57_WayPoint60] (waypoint=59) -> 1.0:(waypoint'=58);\n",
      "\n",
      "[WayPoint57_WayPoint60] (waypoint=59) -> 1.0:(waypoint'=58);\n",
      "\n",
      "[WayPoint57_WayPoint55] (waypoint=59) -> 1.0:(waypoint'=2);\n",
      "\n",
      "Adding door1 to 58 and 59\n",
      "[WayPoint60_WayPoint46] (waypoint=58) -> 1.0:(waypoint'=56);\n",
      "\n",
      "[WayPoint60_WayPoint57] (waypoint=58) -> 1.0:(waypoint'=59);\n",
      "\n",
      "[WayPoint60_WayPoint57] (waypoint=58) -> 1.0:(waypoint'=59);\n",
      "\n",
      "59\n",
      "58\n",
      "59\n",
      "58\n",
      "[checkdoor1] (waypoint=59) & (door1=unknown) -> p:(door1'=open) + (1-p):(door1'=closed);\n",
      "\n",
      "[checkdoor1] (waypoint=58) & (door1=unknown) -> p:(door1'=open) + (1-p):(door1'=closed);\n",
      "\n",
      "[checkdoor1] (waypoint=59) & (door1=unknown):1.0;\n",
      "\n",
      "[checkdoor1] (waypoint=58) & (door1=unknown):1.0;\n",
      "\n"
     ]
    }
   ],
   "source": [
    "create_new_prism_model(folder,folder,filename,filename_suffix\n",
    "                       ,prism_model_ext,numStates,states_to_fail_at,num_models,init_states,True,door_states)"
   ]
  },
  {
   "cell_type": "code",
   "execution_count": null,
   "metadata": {},
   "outputs": [],
   "source": [
    "\n",
    "\n"
   ]
  },
  {
   "cell_type": "code",
   "execution_count": null,
   "metadata": {},
   "outputs": [],
   "source": []
  },
  {
   "cell_type": "code",
   "execution_count": null,
   "metadata": {},
   "outputs": [],
   "source": []
  }
 ],
 "metadata": {
  "kernelspec": {
   "display_name": "Python 2",
   "language": "python",
   "name": "python2"
  },
  "language_info": {
   "codemirror_mode": {
    "name": "ipython",
    "version": 2
   },
   "file_extension": ".py",
   "mimetype": "text/x-python",
   "name": "python",
   "nbconvert_exporter": "python",
   "pygments_lexer": "ipython2",
   "version": "2.7.12"
  }
 },
 "nbformat": 4,
 "nbformat_minor": 2
}
