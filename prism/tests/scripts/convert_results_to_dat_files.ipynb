{
 "cells": [
  {
   "cell_type": "code",
   "execution_count": 1,
   "metadata": {},
   "outputs": [
    {
     "name": "stdout",
     "output_type": "stream",
     "text": [
      "['res.csv', 'res_thresh.csv', 'pres.csv', 'res3.csv', 'res4.csv', 'res2.csv', 'res_thresh2.csv', 'res5.csv']\n"
     ]
    }
   ],
   "source": [
    "import os\n",
    "folder = '../decomp_tests/IROS_2018_final_submission/'; \n",
    "files = os.listdir(folder)\n",
    "res_files = []\n",
    "for file_ in files:\n",
    "    if file_.endswith('.csv') and 'res' in file_:\n",
    "        res_files.append(file_)\n",
    "print res_files\n",
    "filename = 'res_thresh2.csv'\n",
    "fix_tasks = True \n",
    "res_lines = []"
   ]
  },
  {
   "cell_type": "code",
   "execution_count": 2,
   "metadata": {},
   "outputs": [],
   "source": [
    "def read_file(folder,filename):\n",
    "    import csv\n",
    "    with open(folder+filename) as csvfile:\n",
    "        reader = csv.DictReader(csvfile,delimiter='\\t')\n",
    "        for row in reader:\n",
    "            res_lines.append(row)\n",
    "    return res_lines"
   ]
  },
  {
   "cell_type": "code",
   "execution_count": 3,
   "metadata": {},
   "outputs": [],
   "source": [
    "\n",
    "def ensure_dir(file_path):\n",
    "    directory = os.path.dirname(file_path)\n",
    "    if not os.path.exists(directory):\n",
    "        os.makedirs(directory)"
   ]
  },
  {
   "cell_type": "code",
   "execution_count": 4,
   "metadata": {},
   "outputs": [],
   "source": [
    "#get the comptime \n",
    "def create_data_file(fn,num_robot,res_lines,row_name):\n",
    "    fs_vals = [5,10,15,20,25]\n",
    "    newfn = folder+\"res_datfiles/\"+fn[:-3]+'/'+row_name+'_'+str(num_robot)+'.dat';\n",
    "    ensure_dir(newfn)\n",
    "    f=open(newfn,\"w\")\n",
    "    hstring = 'Tasks '; \n",
    "    for fs in fs_vals:\n",
    "        hstring = hstring + str(fs)+\" \"\n",
    "    hstring = hstring+'\\n'\n",
    "    f.write(hstring)\n",
    "    rowstring = \"\"\n",
    "    oldtasks =\"\"\n",
    "    for line in res_lines:\n",
    "\n",
    "\n",
    "        if line['Robots']==str(num_robot):\n",
    "            tasks = line['Task']\n",
    "            if rowstring==\"\":\n",
    "                rowstring=tasks\n",
    "            \n",
    "            if tasks!=oldtasks and oldtasks!=\"\":\n",
    "                rowstring=rowstring+'\\n'\n",
    "                f.write(rowstring)\n",
    "                rowstring=tasks\n",
    "                \n",
    "            rowstring=rowstring+\" \"+line[row_name]\n",
    "            oldtasks = tasks\n",
    "    f.write(rowstring)           \n",
    "    f.close()"
   ]
  },
  {
   "cell_type": "code",
   "execution_count": 5,
   "metadata": {},
   "outputs": [],
   "source": [
    "#get the comptime \n",
    "def create_data_file_sub(fn,num_robot,res_lines,row_name1,row_name2,newlabel):\n",
    "    fs_vals = [5,10,15,20,25]\n",
    "    newfn = folder+\"res_datfiles/\"+fn[:-3]+'/'+newlabel+'_'+str(num_robot)+'.dat';\n",
    "    ensure_dir(newfn)\n",
    "    f=open(newfn,\"w\")\n",
    "    hstring = 'Tasks '; \n",
    "    for fs in fs_vals:\n",
    "        hstring = hstring + str(fs)+\" \"\n",
    "    hstring = hstring+'\\n'\n",
    "    f.write(hstring)\n",
    "    rowstring = \"\"\n",
    "    oldtasks =\"\"\n",
    "    for line in res_lines:\n",
    "\n",
    "\n",
    "        if line['Robots']==str(num_robot):\n",
    "            tasks = line['Task']\n",
    "            if rowstring==\"\":\n",
    "                rowstring=tasks\n",
    "            \n",
    "            if tasks!=oldtasks and oldtasks!=\"\":\n",
    "                rowstring=rowstring+'\\n'\n",
    "                f.write(rowstring)\n",
    "                rowstring=tasks\n",
    "                \n",
    "            rowstring=rowstring+\" \"+str(float(line[row_name1])-float(line[row_name2]))\n",
    "            oldtasks = tasks\n",
    "    f.write(rowstring)           \n",
    "    f.close()"
   ]
  },
  {
   "cell_type": "code",
   "execution_count": 7,
   "metadata": {},
   "outputs": [],
   "source": [
    "#test \n",
    "def get_data(res_lines,filename):\n",
    "    num_robots = ['2','4','8']\n",
    "    headers = ['TotalTime','SE','TeamTime']\n",
    "    for r in num_robots:\n",
    "        for header in headers:\n",
    "            create_data_file(filename,r,res_lines,header)\n",
    "        create_data_file_sub(filename,r,res_lines,'TotalTime','TeamTime','Solving')\n"
   ]
  },
  {
   "cell_type": "code",
   "execution_count": 8,
   "metadata": {},
   "outputs": [
    {
     "name": "stdout",
     "output_type": "stream",
     "text": [
      "res.csv\n",
      "res_thresh.csv\n",
      "error\n",
      "pres.csv\n",
      "res3.csv\n",
      "res4.csv\n",
      "res2.csv\n",
      "res_thresh2.csv\n",
      "res5.csv\n"
     ]
    }
   ],
   "source": [
    "import sys\n",
    "for res_file in res_files:\n",
    "    print res_file\n",
    "    try:\n",
    "        res_lines=[]\n",
    "        res_lines = read_file(folder,res_file)\n",
    "        #print res_lines\n",
    "        get_data(res_lines,res_file)\n",
    "    except:\n",
    "        print 'error' \n",
    "        pass\n"
   ]
  },
  {
   "cell_type": "code",
   "execution_count": null,
   "metadata": {},
   "outputs": [],
   "source": []
  }
 ],
 "metadata": {
  "kernelspec": {
   "display_name": "Python 2",
   "language": "python",
   "name": "python2"
  },
  "language_info": {
   "codemirror_mode": {
    "name": "ipython",
    "version": 2
   },
   "file_extension": ".py",
   "mimetype": "text/x-python",
   "name": "python",
   "nbconvert_exporter": "python",
   "pygments_lexer": "ipython2",
   "version": "2.7.12"
  }
 },
 "nbformat": 4,
 "nbformat_minor": 2
}
