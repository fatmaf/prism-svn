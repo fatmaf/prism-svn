{
 "cells": [
  {
   "cell_type": "code",
   "execution_count": 1,
   "metadata": {},
   "outputs": [],
   "source": [
    "import random\n",
    "def get_n_states_at_random(n,numStates):\n",
    "    states_list = [] \n",
    "    for i in range(n):\n",
    "        rand_state = random.randint(0,numStates)\n",
    "        while rand_state in states_list: \n",
    "            rand_state = random.randint(0,numStates)\n",
    "        states_list.append(rand_state)\n",
    "    return states_list "
   ]
  },
  {
   "cell_type": "code",
   "execution_count": 2,
   "metadata": {},
   "outputs": [],
   "source": [
    "def get_labels(prism_model_lines):\n",
    "    labels={}\n",
    "    text_to_find = \"label\"\n",
    "    text_to_scrap = \"WayPoint\"\n",
    "    text_to_scrap2 = \"waypoint\"\n",
    "    for i in range(len(prism_model_lines)):\n",
    "        line = prism_model_lines[i]\n",
    "        if text_to_find in line:\n",
    "            if text_to_scrap in line and text_to_scrap2 in line:\n",
    "                wp_name = line[line.find(\"WayPoint\"):line.rfind('\"')]\n",
    "                #print wp_name \n",
    "                wp_num = line[line.find(\"(\")+1:line.find(\")\")]\n",
    "                #print wp_num \n",
    "                wp_name = wp_name[len(text_to_scrap):]\n",
    "                wp_num = wp_num[len(text_to_scrap2+\"=\"):]\n",
    "                #print wp_name \n",
    "                #print wp_num\n",
    "                labels[int(wp_name)]=int(wp_num)\n",
    "    return labels"
   ]
  },
  {
   "cell_type": "code",
   "execution_count": 3,
   "metadata": {},
   "outputs": [],
   "source": [
    "def get_module_lines(prism_model_lines):\n",
    "    start = -1\n",
    "    end = -1\n",
    "    startword = \"module\"\n",
    "    endword = \"endmodule\"\n",
    "    for i in range(len(prism_model_lines)):\n",
    "        line = prism_model_lines[i]\n",
    "        if endword in line: \n",
    "            end = i\n",
    "        elif startword in line:\n",
    "            start = i \n",
    "        if (start != -1 and end != -1):\n",
    "            break \n",
    "    return (start+1,end,prism_model_lines[start+1:end])"
   ]
  },
  {
   "cell_type": "code",
   "execution_count": 4,
   "metadata": {},
   "outputs": [],
   "source": [
    "def add_failure_to_states(state, module_lines):\n",
    "    print \"Adding failstates to \"+str(state)\n",
    "    state_line = \"1.0:(waypoint'=\"+str(state)+\")\"\n",
    "    rep_line = \"p:(waypoint'=\"+str(state)+\") + (1-p):(waypoint'=failstate)\"\n",
    "    new_module_lines = []\n",
    "    for line in module_lines:\n",
    "        if state_line in line:\n",
    "            line = line.replace(state_line,rep_line)\n",
    "        new_module_lines.append(line)\n",
    "    return new_module_lines"
   ]
  },
  {
   "cell_type": "code",
   "execution_count": 5,
   "metadata": {},
   "outputs": [],
   "source": [
    "def create_new_prism_model_lines(new_module_lines,module_start,module_end,prism_model_lines):\n",
    "    new_prism_model = list(prism_model_lines)\n",
    "    new_prism_model[module_start:module_end]=new_module_lines\n",
    "    return new_prism_model"
   ]
  },
  {
   "cell_type": "code",
   "execution_count": 6,
   "metadata": {},
   "outputs": [],
   "source": [
    "def write_model_to_file(filename,model_lines):\n",
    "    f=open(filename,\"w\")\n",
    "    f.writelines(model_lines)\n",
    "    f.close()\n",
    "\n",
    "def create_model_name(filename,suffix,model_ext):\n",
    "    nfilename = filename+\"_\"+suffix+model_ext#filename+\"_fs\"+str(num_fail_states)+model_ext   \n",
    "    return nfilename"
   ]
  },
  {
   "cell_type": "code",
   "execution_count": 7,
   "metadata": {},
   "outputs": [],
   "source": [
    "def get_init_state_for_model_num(init_states,num_model):\n",
    "    #init_states = [21,24,6,15,5,1,19,8]\n",
    "    return init_states[num_model]"
   ]
  },
  {
   "cell_type": "code",
   "execution_count": 8,
   "metadata": {},
   "outputs": [],
   "source": [
    "def modify_init_line(module_lines,num_model,init_states):\n",
    "    init_line_text=\"waypoint\"\n",
    "    init_line_text2=\"init\"\n",
    "    for i in range(len(module_lines)):\n",
    "        if (init_line_text in module_lines[i] and init_line_text2 in module_lines[i]):\n",
    "            init_start_index = module_lines[i].find(\"init \")\n",
    "            temptext = module_lines[i][:init_start_index+len(\"init \")]\n",
    "            module_lines[i]=temptext+str(get_init_state_for_model_num(init_states,num_model))+\";\\n\"\n",
    "            break\n",
    "    return module_lines        "
   ]
  },
  {
   "cell_type": "code",
   "execution_count": 9,
   "metadata": {},
   "outputs": [],
   "source": [
    "def create_new_prism_model(folder,new_folder,filename,new_filename_suffix,prism_model_ext,numStates,\n",
    "                           states_to_fail_at,num_models,init_states,convert_states_from_labels):\n",
    "    #read in the model and extract the module bit\n",
    "    prism_model_file = open(folder+filename+prism_model_ext)\n",
    "    prism_model_lines = prism_model_file.readlines()\n",
    "    prism_model_file.close()\n",
    "    module_start,module_end,module_lines = get_module_lines(prism_model_lines)\n",
    "    labels = get_labels(prism_model_lines)\n",
    "    #generate states to fail at\n",
    "    #states_to_fail_at=get_n_states_at_random(num_rand_states,numStates)\n",
    "    if convert_states_from_labels:\n",
    "        for i in range(len(states_to_fail_at)):\n",
    "            states_to_fail_at[i]=labels[states_to_fail_at[i]]\n",
    "        for i in range(len(init_states)):\n",
    "            init_states[i]=labels[init_states[i]]\n",
    "        print \"New States To Fail At\"\n",
    "        print states_to_fail_at\n",
    "        print \"New Init States\"\n",
    "        print init_states\n",
    "            \n",
    "    #create the new model \n",
    "    for i in range(len(states_to_fail_at)):\n",
    "        state_to_look_at = states_to_fail_at[i]\n",
    "        new_module_lines=add_failure_to_states(state_to_look_at,module_lines)\n",
    "        module_lines = new_module_lines\n",
    "        \n",
    "    new_prism_model_lines = create_new_prism_model_lines(new_module_lines,module_start,module_end,prism_model_lines)\n",
    "    \n",
    "    for i in range(num_models):\n",
    "        new_prism_model_lines = modify_init_line(new_prism_model_lines,i,init_states)\n",
    "        #write to file\n",
    "        new_filename = create_model_name(new_folder+filename,new_filename_suffix+str(i),prism_model_ext)\n",
    "        write_model_to_file(new_filename,new_prism_model_lines)"
   ]
  },
  {
   "cell_type": "code",
   "execution_count": 11,
   "metadata": {},
   "outputs": [],
   "source": [
    "folder = \"../decomp_tests/\"\n",
    "filename = \"grid_3_topomap\"#\"grid_2_topomap\"#\"grid_map_topmap\"\n",
    "prism_model_ext = \".prism\"\n",
    "#we know that there are 0 to 28 states \n",
    "numStates = 33 \n",
    "num_models = 4\n",
    "init_states=[19,3,49,30]#[57,50,34,43]\n",
    "states_to_fail_at=[8,22,27,28,36,47,59]#[63,59,64,61,62,60]\n",
    "filename_suffix = \"sim\""
   ]
  },
  {
   "cell_type": "code",
   "execution_count": 12,
   "metadata": {},
   "outputs": [
    {
     "name": "stdout",
     "output_type": "stream",
     "text": [
      "New States To Fail At\n",
      "[12, 27, 32, 33, 37, 55, 5]\n",
      "New Init States\n",
      "[25, 10, 53, 38]\n",
      "Adding failstates to 12\n",
      "Adding failstates to 27\n",
      "Adding failstates to 32\n",
      "Adding failstates to 33\n",
      "Adding failstates to 37\n",
      "Adding failstates to 55\n",
      "Adding failstates to 5\n"
     ]
    }
   ],
   "source": [
    "create_new_prism_model(folder,folder,filename,filename_suffix\n",
    "                       ,prism_model_ext,numStates,states_to_fail_at,num_models,init_states,True)"
   ]
  },
  {
   "cell_type": "code",
   "execution_count": null,
   "metadata": {},
   "outputs": [],
   "source": [
    "\n",
    "\n"
   ]
  },
  {
   "cell_type": "code",
   "execution_count": null,
   "metadata": {},
   "outputs": [],
   "source": []
  }
 ],
 "metadata": {
  "kernelspec": {
   "display_name": "Python 2",
   "language": "python",
   "name": "python2"
  },
  "language_info": {
   "codemirror_mode": {
    "name": "ipython",
    "version": 2
   },
   "file_extension": ".py",
   "mimetype": "text/x-python",
   "name": "python",
   "nbconvert_exporter": "python",
   "pygments_lexer": "ipython2",
   "version": "2.7.12"
  }
 },
 "nbformat": 4,
 "nbformat_minor": 2
}
