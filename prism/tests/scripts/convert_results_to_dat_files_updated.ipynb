{
 "cells": [
  {
   "cell_type": "code",
   "execution_count": 70,
   "metadata": {},
   "outputs": [
    {
     "name": "stdout",
     "output_type": "stream",
     "text": [
      "a\n",
      "c\n"
     ]
    }
   ],
   "source": [
    "x={'a':'b','c':'d'}\n",
    "for xx in x:\n",
    "    print xx"
   ]
  },
  {
   "cell_type": "code",
   "execution_count": 71,
   "metadata": {},
   "outputs": [
    {
     "name": "stdout",
     "output_type": "stream",
     "text": [
      "['res_inc.csv', 'res_incold.csv']\n"
     ]
    }
   ],
   "source": [
    "import os\n",
    "folder = '../decomp_tests/IROS_2018_final_submission/inc/'; \n",
    "files = os.listdir(folder)\n",
    "res_files = []\n",
    "for file_ in files:\n",
    "    if file_.endswith('.csv') and 'res' in file_:\n",
    "        res_files.append(file_)\n",
    "print res_files\n",
    "filename = 'res_thresh2.csv'\n",
    "fix_tasks = True \n",
    "res_lines = []"
   ]
  },
  {
   "cell_type": "code",
   "execution_count": 72,
   "metadata": {},
   "outputs": [],
   "source": [
    "def read_file(folder,filename):\n",
    "    import csv\n",
    "    with open(folder+filename) as csvfile:\n",
    "        reader = csv.DictReader(csvfile,delimiter='\\t')\n",
    "        for row in reader:\n",
    "            res_lines.append(row)\n",
    "    return res_lines"
   ]
  },
  {
   "cell_type": "code",
   "execution_count": 73,
   "metadata": {},
   "outputs": [],
   "source": [
    "\n",
    "def ensure_dir(file_path):\n",
    "    directory = os.path.dirname(file_path)\n",
    "    if not os.path.exists(directory):\n",
    "        os.makedirs(directory)"
   ]
  },
  {
   "cell_type": "code",
   "execution_count": 74,
   "metadata": {},
   "outputs": [],
   "source": [
    "#get the comptime \n",
    "def create_data_file_task(fn,num_robot,res_lines,row_name):\n",
    "    fs_vals = [5,10,15,20,25]\n",
    "    newfn = folder+\"res_datfiles/\"+fn[:-3]+'/task_'+row_name+'_'+str(num_robot)+'.dat';\n",
    "    ensure_dir(newfn)\n",
    "    f=open(newfn,\"w\")\n",
    "    hstring = 'Tasks '; \n",
    "    for fs in fs_vals:\n",
    "        hstring = hstring + str(fs)+\" \"\n",
    "    hstring = hstring+'\\n'\n",
    "    f.write(hstring)\n",
    "    rowstring = \"\"\n",
    "    oldtasks =\"\"\n",
    "    for line in res_lines:\n",
    "\n",
    "\n",
    "        if line['Robots']==str(num_robot):\n",
    "            tasks = line['Task']\n",
    "            if rowstring==\"\":\n",
    "                rowstring=tasks\n",
    "            \n",
    "            if tasks!=oldtasks and oldtasks!=\"\":\n",
    "                rowstring=rowstring+'\\n'\n",
    "                f.write(rowstring)\n",
    "                rowstring=tasks\n",
    "                \n",
    "            rowstring=rowstring+\" \"+line[row_name]\n",
    "            oldtasks = tasks\n",
    "    f.write(rowstring)           \n",
    "    f.close()"
   ]
  },
  {
   "cell_type": "code",
   "execution_count": 94,
   "metadata": {},
   "outputs": [],
   "source": [
    "#get the comptime \n",
    "def create_data_file_fs(fn,num_robot,res_lines,row_name):\n",
    "    fs_vals = [3,5,7,9]\n",
    "    newfn = folder+\"res_datfiles/\"+fn[:-3]+'/fs_'+row_name+'_'+str(num_robot)+'.dat';\n",
    "    ensure_dir(newfn)\n",
    "    f=open(newfn,\"w\")\n",
    "    hstring = 'FS '; \n",
    "    for fs in fs_vals:\n",
    "        hstring = hstring + str(fs)+\" \"\n",
    "    hstring = hstring+'\\n'\n",
    "    f.write(hstring)\n",
    "    rowstring = \"\"\n",
    "    oldtasks =\"\"\n",
    "    vals_dict = {}\n",
    "    for line in res_lines:\n",
    "\n",
    "\n",
    "        if line['Robots']==str(num_robot):\n",
    "            fs = line['FS']\n",
    "            task = line['Task']\n",
    "            tosave = line[row_name]\n",
    "            if fs not in vals_dict:\n",
    "                vals_dict[fs]={}\n",
    "            \n",
    "            vals_dict[fs][task]=tosave\n",
    "\n",
    "    print vals_dict\n",
    "    vstr=''\n",
    "    fsorder = [5,10,15,20,25]\n",
    "    for val in fsorder:\n",
    "        vval = str(val)\n",
    "        vstr = vval\n",
    "        #print val\n",
    "        #raw_input()\n",
    "        if vval in vals_dict:\n",
    "            #print val\n",
    "            for fs in fs_vals:\n",
    "                #print t \n",
    "                #print vals_dict[val][t]\n",
    "                #print fs\n",
    "                #raw_input()\n",
    "                if str(fs) in vals_dict[vval]:\n",
    "                    #print vals_dict[vval]\n",
    "                    vstr=vstr+\"\\t\"+str(vals_dict[vval][str(fs)])\n",
    "            vstr=vstr+\"\\n\"\n",
    "            f.write(vstr)\n",
    "    \n",
    "    f.close()"
   ]
  },
  {
   "cell_type": "code",
   "execution_count": 95,
   "metadata": {},
   "outputs": [],
   "source": [
    "#get the comptime \n",
    "def create_data_file_task_sub(fn,num_robot,res_lines,row_name1,row_name2,newlabel):\n",
    "    fs_vals = [5,10,15,20,25]\n",
    "    newfn = folder+\"res_datfiles/\"+fn[:-3]+'/task_'+newlabel+'_'+str(num_robot)+'.dat';\n",
    "    ensure_dir(newfn)\n",
    "    f=open(newfn,\"w\")\n",
    "    hstring = 'Tasks '; \n",
    "    for fs in fs_vals:\n",
    "        hstring = hstring + str(fs)+\" \"\n",
    "    hstring = hstring+'\\n'\n",
    "    f.write(hstring)\n",
    "    rowstring = \"\"\n",
    "    oldtasks =\"\"\n",
    "    for line in res_lines:\n",
    "\n",
    "\n",
    "        if line['Robots']==str(num_robot):\n",
    "            tasks = line['Task']\n",
    "            if rowstring==\"\":\n",
    "                rowstring=tasks\n",
    "            \n",
    "            if tasks!=oldtasks and oldtasks!=\"\":\n",
    "                rowstring=rowstring+'\\n'\n",
    "                f.write(rowstring)\n",
    "                rowstring=tasks\n",
    "                \n",
    "            rowstring=rowstring+\" \"+str(float(line[row_name1])-float(line[row_name2]))\n",
    "            oldtasks = tasks\n",
    "    f.write(rowstring)           \n",
    "    f.close()"
   ]
  },
  {
   "cell_type": "code",
   "execution_count": 96,
   "metadata": {},
   "outputs": [],
   "source": [
    "#test \n",
    "def get_data(res_lines,filename):\n",
    "    num_robots = ['2','4','8']\n",
    "    headers = ['TotalTime','SE','TeamTime']\n",
    "    for r in num_robots:\n",
    "        for header in headers:\n",
    "            print r+\":\"+header\n",
    "            create_data_file_task(filename,r,res_lines,header)\n",
    "            create_data_file_fs(filename,r,res_lines,header)\n",
    "        create_data_file_task_sub(filename,r,res_lines,'TotalTime','TeamTime','Solving')\n"
   ]
  },
  {
   "cell_type": "code",
   "execution_count": 100,
   "metadata": {},
   "outputs": [
    {
     "name": "stdout",
     "output_type": "stream",
     "text": [
      "res_inc.csv\n",
      "2:TotalTime\n",
      "{}\n",
      "2:SE\n",
      "{}\n",
      "2:TeamTime\n",
      "{}\n",
      "4:TotalTime\n",
      "{'15': {'9': '51189', '3': '128', '5': '624', '7': '5295'}, '10': {'9': '31606', '3': '97', '5': '465', '7': '4140'}, '5': {'9': '17055', '3': '171', '5': '295', '7': '1947'}, '25': {'9': '104656', '3': '139', '5': '1767', '7': '13277'}, '20': {'9': '94708', '3': '95', '5': '1377', '7': '10948'}}\n",
      "4:SE\n",
      "{'15': {'9': '51', '3': '7', '5': '19', '7': '30'}, '10': {'9': '30', '3': '4', '5': '12', '7': '22'}, '5': {'9': '10', '3': '4', '5': '6', '7': '7'}, '25': {'9': '122', '3': '17', '5': '60', '7': '90'}, '20': {'9': '106', '3': '11', '5': '47', '7': '62'}}\n",
      "4:TeamTime\n",
      "{'15': {'9': '6959', '3': '29', '5': '57', '7': '491'}, '10': {'9': '6758', '3': '30', '5': '89', '7': '520'}, '5': {'9': '6864', '3': '80', '5': '94', '7': '589'}, '25': {'9': '7128', '3': '20', '5': '55', '7': '475'}, '20': {'9': '7007', '3': '17', '5': '77', '7': '495'}}\n",
      "8:TotalTime\n",
      "{'15': {'9': '1800992', '3': '131', '5': '3706', '7': '117783'}, '10': {'9': '761083', '3': '79', '5': '1526', '7': '61128'}, '5': {'9': '71673', '3': '64', '5': '486', '7': '10787'}, '25': {'9': '5429987', '3': '317', '5': '66582', '7': '698665'}, '20': {'9': '4263479', '3': '185', '5': '19237', '7': '315075'}}\n",
      "8:SE\n",
      "{'15': {'9': '937', '3': '15', '5': '63', '7': '280'}, '10': {'9': '386', '3': '8', '5': '29', '7': '152'}, '5': {'9': '28', '3': '6', '5': '8', '7': '24'}, '25': {'9': '2974', '3': '39', '5': '840', '7': '1722'}, '20': {'9': '2169', '3': '22', '5': '272', '7': '764'}}\n",
      "8:TeamTime\n",
      "{'15': {'9': '13987', '3': '15', '5': '90', '7': '1052'}, '10': {'9': '14122', '3': '21', '5': '88', '7': '1034'}, '5': {'9': '13628', '3': '15', '5': '82', '7': '962'}, '25': {'9': '14986', '3': '14', '5': '88', '7': '1010'}, '20': {'9': '14337', '3': '15', '5': '87', '7': '1015'}}\n",
      "res_incold.csv\n",
      "2:TotalTime\n",
      "{}\n",
      "2:SE\n",
      "{}\n",
      "2:TeamTime\n",
      "{}\n",
      "4:TotalTime\n",
      "{'15': {'9': '93393', '3': '140', '5': '1687', '7': '7930'}, '10': {'9': '47036', '3': '96', '5': '463', '7': '3656'}, '5': {'9': '16927', '3': '93', '5': '218', '7': '1260'}, '25': {'9': '167104', '3': '125', '5': '2118', '7': '20188'}, '20': {'9': '112577', '3': '150', '5': '1775', '7': '9749'}}\n",
      "4:SE\n",
      "{'15': {'9': '108', '3': '11', '5': '54', '7': '50'}, '10': {'9': '50', '3': '5', '5': '12', '7': '22'}, '5': {'9': '12', '3': '0', '5': '3', '7': '3'}, '25': {'9': '199', '3': '18', '5': '73', '7': '130'}, '20': {'9': '129', '3': '16', '5': '56', '7': '62'}}\n",
      "4:TeamTime\n",
      "{'15': {'9': '6928', '3': '20', '5': '63', '7': '482'}, '10': {'9': '6827', '3': '22', '5': '61', '7': '517'}, '5': {'9': '6694', '3': '69', '5': '86', '7': '511'}, '25': {'9': '7303', '3': '17', '5': '68', '7': '498'}, '20': {'9': '7342', '3': '19', '5': '89', '7': '487'}}\n",
      "8:TotalTime\n",
      "{'15': {'3': '304', '5': '52289', '7': '282103'}, '10': {'3': '105', '5': '4307', '7': '61130'}, '5': {'9': '148862', '3': '21', '5': '648', '7': '5198'}, '25': {'3': '287', '5': '72784', '7': '1095021'}, '20': {'3': '403', '5': '62492', '7': '486318'}}\n",
      "8:SE\n",
      "{'15': {'3': '29', '5': '737', '7': '767'}, '10': {'3': '10', '5': '81', '7': '171'}, '5': {'9': '70', '3': '0', '5': '9', '7': '10'}, '25': {'3': '33', '5': '977', '7': '2489'}, '20': {'3': '44', '5': '913', '7': '1216'}}\n",
      "8:TeamTime\n",
      "{'15': {'3': '16', '5': '87', '7': '929'}, '10': {'3': '16', '5': '95', '7': '939'}, '5': {'9': '13978', '3': '15', '5': '102', '7': '950'}, '25': {'3': '17', '5': '91', '7': '1002'}, '20': {'3': '16', '5': '99', '7': '952'}}\n"
     ]
    }
   ],
   "source": [
    "import sys\n",
    "for res_file in res_files:\n",
    "    print res_file\n",
    "#    try:\n",
    "    res_lines=[]\n",
    "    res_lines = read_file(folder,res_file)\n",
    "    #print res_lines\n",
    "    get_data(res_lines,res_file)\n",
    "#    except:\n",
    "#        print 'error' \n",
    "#        pass\n"
   ]
  },
  {
   "cell_type": "code",
   "execution_count": null,
   "metadata": {},
   "outputs": [],
   "source": []
  },
  {
   "cell_type": "code",
   "execution_count": null,
   "metadata": {},
   "outputs": [],
   "source": []
  }
 ],
 "metadata": {
  "kernelspec": {
   "display_name": "Python 2",
   "language": "python",
   "name": "python2"
  },
  "language_info": {
   "codemirror_mode": {
    "name": "ipython",
    "version": 2
   },
   "file_extension": ".py",
   "mimetype": "text/x-python",
   "name": "python",
   "nbconvert_exporter": "python",
   "pygments_lexer": "ipython2",
   "version": "2.7.12"
  }
 },
 "nbformat": 4,
 "nbformat_minor": 2
}
