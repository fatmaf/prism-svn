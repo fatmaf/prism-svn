{
 "cells": [
  {
   "cell_type": "code",
   "execution_count": 73,
   "metadata": {},
   "outputs": [],
   "source": [
    "import random\n",
    "def get_n_states_at_random(n,numStates):\n",
    "    states_list = [] \n",
    "    for i in range(n):\n",
    "        rand_state = random.randint(0,numStates)\n",
    "        while rand_state in states_list: \n",
    "            rand_state = random.randint(0,numStates)\n",
    "        states_list.append(rand_state)\n",
    "    return states_list "
   ]
  },
  {
   "cell_type": "code",
   "execution_count": 74,
   "metadata": {},
   "outputs": [],
   "source": [
    "def get_module_lines(prism_model_lines):\n",
    "    start = -1\n",
    "    end = -1\n",
    "    startword = \"module\"\n",
    "    endword = \"endmodule\"\n",
    "    for i in range(len(prism_model_lines)):\n",
    "        line = prism_model_lines[i]\n",
    "        if endword in line: \n",
    "            end = i\n",
    "        elif startword in line:\n",
    "            start = i \n",
    "        if (start != -1 and end != -1):\n",
    "            break \n",
    "    return (start+1,end,prism_model_lines[start+1:end])"
   ]
  },
  {
   "cell_type": "code",
   "execution_count": 75,
   "metadata": {},
   "outputs": [],
   "source": [
    "def add_failure_to_states(state, module_lines):\n",
    "    state_line = \"1:(waypoint'=\"+str(state)+\")\"\n",
    "    rep_line = \"p:(waypoint'=\"+str(state)+\") + (1-p):(waypoint'=failstate)\"\n",
    "    new_module_lines = []\n",
    "    for line in module_lines:\n",
    "        if state_line in line:\n",
    "            line = line.replace(state_line,rep_line)\n",
    "        new_module_lines.append(line)\n",
    "    return new_module_lines"
   ]
  },
  {
   "cell_type": "code",
   "execution_count": 76,
   "metadata": {},
   "outputs": [],
   "source": [
    "def create_new_prism_model_lines(new_module_lines,module_start,module_end,prism_model_lines):\n",
    "    new_prism_model = list(prism_model_lines)\n",
    "    new_prism_model[module_start:module_end]=new_module_lines\n",
    "    return new_prism_model"
   ]
  },
  {
   "cell_type": "code",
   "execution_count": 77,
   "metadata": {},
   "outputs": [],
   "source": [
    "def write_model_to_file(filename,model_lines):\n",
    "    f=open(filename,\"w\")\n",
    "    f.writelines(model_lines)\n",
    "    f.close()\n",
    "\n",
    "def create_model_name(filename,num_fail_states,model_ext):\n",
    "    nfilename = filename+\"_fs\"+str(num_fail_states)+model_ext   \n",
    "    return nfilename"
   ]
  },
  {
   "cell_type": "code",
   "execution_count": 78,
   "metadata": {},
   "outputs": [],
   "source": [
    "def get_init_state_for_model_num(num_model):\n",
    "    init_states = [21,24,6,15,5,1,19,8]\n",
    "    return init_states[num_model]"
   ]
  },
  {
   "cell_type": "code",
   "execution_count": 79,
   "metadata": {},
   "outputs": [],
   "source": [
    "def modify_init_line(module_lines,num_model):\n",
    "    init_line_text=\"waypoint:[failstate..28] init \"\n",
    "    for i in range(len(module_lines)):\n",
    "        if init_line_text in module_lines[i]:\n",
    "            module_lines[i]=init_line_text+str(get_init_state_for_model_num(num_model))+\";\\n\"\n",
    "            break\n",
    "    return module_lines        "
   ]
  },
  {
   "cell_type": "code",
   "execution_count": 80,
   "metadata": {},
   "outputs": [],
   "source": [
    "def create_new_prism_model(folder,new_folder,filename,prism_model_ext,numStates,num_rand_states,num_models):\n",
    "    #read in the model and extract the module bit\n",
    "    prism_model_file = open(folder+filename+prism_model_ext)\n",
    "    prism_model_lines = prism_model_file.readlines()\n",
    "    prism_model_file.close()\n",
    "    module_start,module_end,module_lines = get_module_lines(prism_model_lines)\n",
    "    \n",
    "    #generate states to fail at\n",
    "    states_to_fail_at=get_n_states_at_random(num_rand_states,numStates)\n",
    "    \n",
    "    #create the new model \n",
    "    for i in range(num_rand_states):\n",
    "        new_module_lines=add_failure_to_states(states_to_fail_at[i],module_lines)\n",
    "        module_lines = new_module_lines\n",
    "        \n",
    "    new_prism_model_lines = create_new_prism_model_lines(new_module_lines,module_start,module_end,prism_model_lines)\n",
    "    \n",
    "    for i in range(num_models):\n",
    "        new_prism_model_lines = modify_init_line(new_prism_model_lines,i)\n",
    "        #write to file\n",
    "        new_filename = create_model_name(new_folder+filename,num_rand_states,\"_\"+str(i)+prism_model_ext)\n",
    "        write_model_to_file(new_filename,new_prism_model_lines)"
   ]
  },
  {
   "cell_type": "code",
   "execution_count": 81,
   "metadata": {},
   "outputs": [],
   "source": [
    "folder = \"../decomp_tests/IROS_2018_final_submission/\"\n",
    "filename = \"topo_map_failbase\"\n",
    "prism_model_ext = \".prism\"\n",
    "#we know that there are 0 to 28 states \n",
    "numStates = 28 \n",
    "num_models = 8\n"
   ]
  },
  {
   "cell_type": "code",
   "execution_count": 82,
   "metadata": {},
   "outputs": [],
   "source": [
    "#test \n",
    "fs_states_list = [5,10,15,20,25]\n",
    "for num_rand_states in fs_states_list:\n",
    "    new_folder = folder+\"fs_\"+str(num_rand_states)+\"/\"\n",
    "    import os\n",
    "    newpath = new_folder\n",
    "    if not os.path.exists(newpath):\n",
    "        os.makedirs(newpath)\n",
    "    create_new_prism_model(folder,new_folder,filename,prism_model_ext,numStates,num_rand_states,num_models)"
   ]
  },
  {
   "cell_type": "code",
   "execution_count": null,
   "metadata": {},
   "outputs": [],
   "source": [
    "\n",
    "\n"
   ]
  },
  {
   "cell_type": "code",
   "execution_count": null,
   "metadata": {},
   "outputs": [],
   "source": []
  }
 ],
 "metadata": {
  "kernelspec": {
   "display_name": "Python 2",
   "language": "python",
   "name": "python2"
  },
  "language_info": {
   "codemirror_mode": {
    "name": "ipython",
    "version": 2
   },
   "file_extension": ".py",
   "mimetype": "text/x-python",
   "name": "python",
   "nbconvert_exporter": "python",
   "pygments_lexer": "ipython2",
   "version": "2.7.12"
  }
 },
 "nbformat": 4,
 "nbformat_minor": 2
}
