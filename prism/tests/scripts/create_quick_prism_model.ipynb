{
 "cells": [
  {
   "cell_type": "code",
   "execution_count": 360,
   "metadata": {},
   "outputs": [],
   "source": [
    "%matplotlib inline \n",
    "#plot stuff \n",
    "import numpy as np \n",
    "import pylab as pl \n",
    "from matplotlib import collections  as mc\n",
    "import matplotlib.pyplot as plt\n",
    "\n"
   ]
  },
  {
   "cell_type": "code",
   "execution_count": 361,
   "metadata": {},
   "outputs": [],
   "source": [
    "def get_xy_ind(flat_rep_xy_ind,flat_rep_ind_xy,curr_ind,s1):\n",
    "    if s1 in flat_rep_xy_ind:\n",
    "        if not flat_rep_xy_ind[s1] in flat_rep_ind_xy:\n",
    "            flat_rep_ind_xy[flat_rep_xy_ind[s1]] = s1\n",
    "    else:\n",
    "        flat_rep_xy_ind[s1] = curr_ind\n",
    "        flat_rep_ind_xy[curr_ind]=s1\n",
    "        curr_ind=curr_ind+1 \n",
    "        print \"Adding %s at ind %d\" % (str(s1),flat_rep_xy_ind[s1])\n",
    "    #print flat_rep_xy_ind\n",
    "    #print flat_rep_ind_xy\n",
    "    #print curr_ind\n",
    "    return (flat_rep_xy_ind,flat_rep_ind_xy,curr_ind,flat_rep_xy_ind[s1])"
   ]
  },
  {
   "cell_type": "code",
   "execution_count": 362,
   "metadata": {},
   "outputs": [],
   "source": [
    "def get_reward(s1,s2,flat_rep_ind_xy=None):\n",
    "    if flat_rep_ind_xy is None:\n",
    "        return abs(s1[0]-s2[0]) + abs(s1[1]-s2[1])\n",
    "    else:\n",
    "        s1 = flat_rep_ind_xy[s1]\n",
    "        s2 = flat_rep_ind_xy[s2]\n",
    "        return get_reward(s1,s2)"
   ]
  },
  {
   "cell_type": "code",
   "execution_count": 363,
   "metadata": {},
   "outputs": [],
   "source": [
    "\n",
    "def plot_point_pairs(point_pairs):\n",
    "    lc = mc.LineCollection(point_pairs,cmap=plt.cm.rainbow)\n",
    "    fig, ax = pl.subplots()\n",
    "    ax.set_xlabel(\"x\")\n",
    "    ax.add_collection(lc)\n",
    "    ax.autoscale()\n",
    "    ax.margins(0.1)\n",
    "    return (fig,ax)\n",
    "    \n",
    "    "
   ]
  },
  {
   "cell_type": "code",
   "execution_count": 364,
   "metadata": {},
   "outputs": [],
   "source": [
    "\n",
    "def inRangeG(s1,xlim,ylim):\n",
    "    return ((s1[0]<xlim and s1[0]>=0) and (s1[1]<ylim and s1[1]>=0))\n",
    "\n",
    "def inRangeF(s1,xlim,ylim):\n",
    "    return ((s1[0]<(xlim+1) and s1[0]>=-1) and (s1[1]<ylim and s1[1]>=0))\n",
    "\n",
    "def inRangeD(s1,xlim,ylim):\n",
    "    return ((s1[0]<(xlim+1) and s1[0]>=-1) and (s1[1]<(ylim+1) and s1[1]>=-1))\n"
   ]
  },
  {
   "cell_type": "code",
   "execution_count": 419,
   "metadata": {},
   "outputs": [],
   "source": [
    "\n",
    "            \n",
    "def add_lines(s1_xy,x,y,xlim,ylim,isFringe,module_lines,reward_lines,point_pairs,ind,flat_rep_xy_ind,flat_rep_ind_xy):\n",
    "    s2_xy = (s1_xy[0] + x,s1_xy[1]+y)\n",
    "   \n",
    "    isInRange = inRangeG(s2_xy,xlim,ylim)\n",
    "    if isFringe:\n",
    "         isInRange = inRangeF(s2_xy,xlim,ylim)\n",
    "    if isInRange:\n",
    "        point_pairs.append([s1_xy,s2_xy])\n",
    "        #print \"Plotting \"+str(s1_xy)+\" - \"+str(s2_xy)\n",
    "        (flat_rep_xy_ind,flat_rep_ind_xy,ind,s1) = get_xy_ind(flat_rep_xy_ind,flat_rep_ind_xy,ind,s1_xy)#flat_rep_xy_ind[s1_xy]\n",
    "        (flat_rep_xy_ind,flat_rep_ind_xy,ind,s2) = get_xy_ind(flat_rep_xy_ind,flat_rep_ind_xy,ind,s2_xy)#flat_rep_xy_ind[s2_xy]\n",
    "        reward = get_reward(s1_xy,s2_xy,None)\n",
    "        module_line_template = \"[v%(s1)d_v%(s2)d] (s=%(s1)d) -> p:(s'=%(s2)d) + (1-p):(s'=failstate);\\n\"%{\"s1\":s1,\"s2\":s2}\n",
    "        reward_line_template = \"[v%(s1)d_v%(s2)d] (s=%(s1)d) : %(rew)d;\\n\"%{\"s1\":s1,\"s2\":s2,\"rew\":reward}\n",
    "        module_lines.append(module_line_template)\n",
    "        reward_lines.append(reward_line_template)\n",
    "        if isFringe:\n",
    "            module_line_template = \"[v%(s1)d_v%(s2)d] (s=%(s1)d) -> p:(s'=%(s2)d) + (1-p):(s'=failstate);\\n\"%{\"s1\":s2,\"s2\":s1}\n",
    "            reward_line_template = \"[v%(s1)d_v%(s2)d] (s=%(s1)d) : %(rew)d;\\n\"%{\"s1\":s2,\"s2\":s1,\"rew\":reward}\n",
    "            module_lines.append(module_line_template)\n",
    "            reward_lines.append(reward_line_template)\n",
    "    return (module_lines,reward_lines,point_pairs,ind)"
   ]
  },
  {
   "cell_type": "code",
   "execution_count": 420,
   "metadata": {},
   "outputs": [],
   "source": [
    "def add_door_lines(s1_xy,x,y,doorn,xlim,ylim,module_lines,reward_lines,point_pairs,ind,flat_rep_xy_ind,flat_rep_ind_xy):\n",
    "    s2_xy = (s1_xy[0] + x,s1_xy[1]+y)\n",
    "    isInRange = inRangeD(s2_xy,xlim,ylim)\n",
    "    if isInRange:\n",
    "        point_pairs.append([s1_xy,s2_xy])\n",
    "        print \"Adding door \"+str(s1_xy)+\" - \"+str(s2_xy)\n",
    "        (flat_rep_xy_ind,flat_rep_ind_xy,ind,s1) = get_xy_ind(flat_rep_xy_ind,flat_rep_ind_xy,ind,s1_xy)#flat_rep_xy_ind[s1_xy]\n",
    "        (flat_rep_xy_ind,flat_rep_ind_xy,ind,s2) = get_xy_ind(flat_rep_xy_ind,flat_rep_ind_xy,ind,s2_xy)#flat_rep_xy_ind[s2_xy]\n",
    "\n",
    "        reward = 1 #get_reward(s1_xy,s2_xy,None)\n",
    "        \n",
    "        door_line_template = \"[checkdoor%(doorno)d_v%(s1)d] (s=%(s1)d) & (door%(doorno)d=unknown) -> p:(door%(doorno)d'=open) + (1-p):(door%(doorno)d'=closed);\\n\" %{\"s1\":s1,\"doorno\":doorn}\n",
    "        module_lines.append(door_line_template)\n",
    "        door_line_template = \"[checkdoor%(doorno)d_v%(s1)d] (s=%(s1)d) & (door%(doorno)d=unknown) -> p:(door%(doorno)d'=open) + (1-p):(door%(doorno)d'=closed);\\n\" %{\"s1\":s2,\"doorno\":doorn}\n",
    "        module_lines.append(door_line_template)\n",
    "        door_reward = 1\n",
    "        reward_door_check = \"[checkdoor%(doorno)d_v%(s1)d] (s=%(s1)d) & (door%(doorno)d=unknown) : %(doorrew)d;\\n\" %{\"s1\":s1,\"doorno\":doorn,\"doorrew\":door_reward}\n",
    "        reward_lines.append(reward_door_check)\n",
    "        reward_door_check = \"[checkdoor%(doorno)d_v%(s1)d] (s=%(s1)d) & (door%(doorno)d=unknown) : %(doorrew)d;\\n\" %{\"s1\":s2,\"doorno\":doorn,\"doorrew\":door_reward}\n",
    "        reward_lines.append(reward_door_check)\n",
    "        \n",
    "        \n",
    "        module_line_template = \"[v%(s1)d_v%(s2)d] (s=%(s1)d) & (door%(doorno)d=open) -> p:(s'=%(s2)d) + (1-p):(s'=failstate);\\n\"%{\"s1\":s1,\"doorno\":doorn,\"s2\":s2}\n",
    "        reward_line_template = \"[v%(s1)d_v%(s2)d] (s=%(s1)d) & (door%(doorno)d=open) : %(rew)d;\\n\"%{\"s1\":s1,\"s2\":s2,\"doorno\":doorn,\"rew\":reward}\n",
    "        module_lines.append(module_line_template)\n",
    "        reward_lines.append(reward_line_template)\n",
    "        \n",
    "        module_line_template = \"[v%(s1)d_v%(s2)d] (s=%(s1)d) & (door%(doorno)d=open) -> p:(s'=%(s2)d) + (1-p):(s'=failstate);\\n\"%{\"s1\":s2,\"doorno\":doorn,\"s2\":s1}\n",
    "        reward_line_template = \"[v%(s1)d_v%(s2)d] (s=%(s1)d) & (door%(doorno)d=open) : %(rew)d;\\n\"%{\"s1\":s2,\"s2\":s1,\"doorno\":doorn,\"rew\":reward}\n",
    "        module_lines.append(module_line_template)\n",
    "        reward_lines.append(reward_line_template)\n",
    "        \n",
    "    return (module_lines,reward_lines,point_pairs,ind)"
   ]
  },
  {
   "cell_type": "code",
   "execution_count": 421,
   "metadata": {},
   "outputs": [],
   "source": [
    "\n",
    "def add_basic_box(xlim,ylim,module_lines,reward_lines,ind,point_pairs,flat_rep_xy_ind,flat_rep_ind_xy):\n",
    "    for xp in range(0,xlim):\n",
    "        for yp in range(0,ylim):\n",
    "    #for i in range(0,ind):\n",
    "            s1_xy = (xp,yp)#flat_rep_ind_xy[i]\n",
    "            print s1_xy\n",
    "            (flat_rep_xy_ind,flat_rep_ind_xy,ind,s1) = get_xy_ind(flat_rep_xy_ind,flat_rep_ind_xy,ind,s1_xy)\n",
    "            isInRange = inRange(s1_xy,xlim,ylim)\n",
    "            print isInRange\n",
    "            if isInRange:\n",
    "                for x in xymov:\n",
    "                    for y in xymov: \n",
    "                        if (x==0 and y == 0):\n",
    "                            continue\n",
    "                        (module_lines,reward_lines,point_pairs,ind)=add_lines(s1_xy,x,y,xlim,ylim,False,module_lines,reward_lines,point_pairs,ind,flat_rep_xy_ind,flat_rep_ind_xy)\n",
    "    return (module_lines,reward_lines,ind,point_pairs,flat_rep_xy_ind,flat_rep_ind_xy)\n",
    "\n"
   ]
  },
  {
   "cell_type": "code",
   "execution_count": 422,
   "metadata": {},
   "outputs": [],
   "source": [
    "def draw(flat_rep_ind_xy,flat_rep_xy_ind,point_pairs,fig,ax):\n",
    "    print flat_rep_ind_xy\n",
    "    print flat_rep_xy_ind\n",
    "    print len(point_pairs)\n",
    "    (fig,ax)=plot_point_pairs(point_pairs)\n",
    "    return (fig,ax)"
   ]
  },
  {
   "cell_type": "code",
   "execution_count": 423,
   "metadata": {},
   "outputs": [],
   "source": [
    "def add_fringe_box(xlim,ylim,module_lines,reward_lines,ind,point_pairs,flat_rep_xy_ind,flat_rep_ind_xy):\n",
    "    #add fringe nodes\n",
    "    for i in range(0,xlim):\n",
    "        s1_xys =[ (0,i),(xlim-1,i)]\n",
    "        #print s1_xys\n",
    "        for s1_xy in s1_xys:\n",
    "            x=0\n",
    "            y=0\n",
    "            if (s1_xy[0] == 0):\n",
    "                x=-1\n",
    "            else:\n",
    "                x=1\n",
    "            (module_lines,reward_lines,point_pairs,ind)=add_lines(s1_xy,x,y,xlim,ylim,True,module_lines,reward_lines,point_pairs,ind,flat_rep_xy_ind,flat_rep_ind_xy)\n",
    "            \n",
    "    return (module_lines,reward_lines,ind,point_pairs,flat_rep_xy_ind,flat_rep_ind_xy)"
   ]
  },
  {
   "cell_type": "code",
   "execution_count": null,
   "metadata": {},
   "outputs": [],
   "source": [
    "\n"
   ]
  },
  {
   "cell_type": "code",
   "execution_count": 424,
   "metadata": {},
   "outputs": [],
   "source": [
    "def add_doors(xlim,ylim,module_lines,reward_lines,ind,point_pairs,flat_rep_xy_ind,flat_rep_ind_xy,maxdoors):\n",
    "    #add doors\n",
    "\n",
    "    numdoors = 0\n",
    "    for i in range(0,ylim):\n",
    "            s1_xys = [(i,0),(i,ylim-1)]\n",
    "            for s1_xy in s1_xys:\n",
    "                if numdoors<maxdoors:\n",
    "                    x = 0 \n",
    "                    y = 0 \n",
    "                    if (s1_xy[1]==0):\n",
    "                        y = -1\n",
    "                    else:\n",
    "                        y = 1\n",
    "                    (module_lines,reward_lines,point_pairs,ind)=add_door_lines(s1_xy,x,y,numdoors,xlim,ylim,module_lines,reward_lines,point_pairs,ind,flat_rep_xy_ind,flat_rep_ind_xy)\n",
    "                    numdoors = numdoors+1\n",
    "                else:\n",
    "                    break\n",
    "    return (module_lines,reward_lines,ind,point_pairs,flat_rep_xy_ind,flat_rep_ind_xy)"
   ]
  },
  {
   "cell_type": "code",
   "execution_count": null,
   "metadata": {},
   "outputs": [],
   "source": []
  },
  {
   "cell_type": "code",
   "execution_count": null,
   "metadata": {},
   "outputs": [],
   "source": []
  },
  {
   "cell_type": "code",
   "execution_count": 425,
   "metadata": {},
   "outputs": [],
   "source": [
    "def write_labels(ind):\n",
    "    #write labels \n",
    "    label_lines=[]\n",
    "    for i in range(0,ind):\n",
    "        label_text= 'label \"v%(state)d\" = s=%(state)d;\\n' % {\"state\":i}\n",
    "        label_lines.append(label_text)\n",
    "    return label_lines\n"
   ]
  },
  {
   "cell_type": "code",
   "execution_count": 426,
   "metadata": {},
   "outputs": [],
   "source": [
    "def write_model(folder,fn,initstate,ind,maxdoors,module_lines,reward_lines,label_lines):\n",
    "    with open(folder+fn,\"w\") as f:\n",
    "        f.write(\"mdp\\n\\n\")\n",
    "        f.write(\"const int failstate = -1;\\n\")\n",
    "        f.write(\"const int maxstate = %d;\\n\"%(ind-1))\n",
    "        f.write(\"const double p = 0.8;\\n\")\n",
    "        f.write(\"const int unknown=-1;\\n\")\n",
    "        f.write(\"const int closed=0;\\n\")\n",
    "        f.write(\"const int open=1;\\n\")\n",
    "\n",
    "        f.write(\"\\n\\nmodule world\\n\")\n",
    "        f.write(\"\\ns:[failstate..maxstate] init %d;\\n\\n\"%(initstate))\n",
    "        for i in range(maxdoors):\n",
    "            f.write(\"door%(dn)d:[unknown..open] init unknown;\\n\\n\\n\"%{\"dn\":i})\n",
    "\n",
    "        for line in module_lines:\n",
    "            f.write(line)\n",
    "        f.write(\"endmodule\\n\\n\\n\")\n",
    "        for line in label_lines:\n",
    "            f.write(line)\n",
    "        f.write('\\n\\n\\nrewards \"Time\"\\n')\n",
    "        for line in reward_lines:\n",
    "            f.write(line)\n",
    "        f.write(\"endrewards\\n\")"
   ]
  },
  {
   "cell_type": "code",
   "execution_count": 427,
   "metadata": {},
   "outputs": [],
   "source": [
    "def create_model(xlim,ylim,maxdoors):\n",
    "    flat_rep_xy_ind = {}\n",
    "    flat_rep_ind_xy = {}\n",
    "\n",
    "    ind = 0\n",
    "    module_lines = []\n",
    "    reward_lines = []\n",
    "    point_pairs = []\n",
    "    fig = None\n",
    "    ax = None\n",
    "    print \"Adding Basic Box\"\n",
    "    (module_lines,reward_lines,ind,point_pairs,flat_rep_xy_ind,flat_rep_ind_xy)=add_basic_box(xlim,ylim,module_lines,reward_lines,ind,point_pairs,flat_rep_xy_ind,flat_rep_ind_xy)\n",
    "    (fig,ax)=draw(flat_rep_ind_xy,flat_rep_xy_ind,point_pairs,fig,ax)\n",
    "    print \"Adding Fringes\"\n",
    "    (module_lines,reward_lines,ind,point_pairs,flat_rep_xy_ind,flat_rep_ind_xy)=add_fringe_box(xlim,ylim,module_lines,reward_lines,ind,point_pairs,flat_rep_xy_ind,flat_rep_ind_xy)\n",
    "    (fig,ax)=draw(flat_rep_ind_xy,flat_rep_xy_ind,point_pairs,fig,ax)\n",
    "    print \"Adding Doors\"\n",
    "    (module_lines,reward_lines,ind,point_pairs,flat_rep_xy_ind,flat_rep_ind_xy)=add_doors(xlim,ylim,module_lines,reward_lines,ind,point_pairs,flat_rep_xy_ind,flat_rep_ind_xy,maxdoors)\n",
    "    (fig,ax)=draw(flat_rep_ind_xy,flat_rep_xy_ind,point_pairs,fig,ax)\n",
    "    \n",
    "    for xy_item in flat_rep_xy_ind:\n",
    "        ax.plot(xy_item[0],xy_item[1],'ro')\n",
    "        ax.annotate(flat_rep_xy_ind[xy_item],xy=xy_item)\n",
    "    fig\n",
    "    label_lines = write_labels(ind)\n",
    "    return (module_lines,reward_lines,label_lines,ind,flat_rep_xy_ind)"
   ]
  },
  {
   "cell_type": "code",
   "execution_count": 432,
   "metadata": {},
   "outputs": [],
   "source": [
    "xymov = [-1,0,1]\n",
    "xlim = 4\n",
    "ylim = 4 \n",
    "folder = \"/home/fatma/Data/PhD/code/prism_ws/prism-svn/prism/tests/decomp_tests/\"\n",
    "fn_name = \"temp\"\n",
    "fn_ext = \".prism\"\n",
    "num_models = 3\n",
    "initstates=[]\n",
    "maxdoors=1\n",
    "num_models = min(num_models,ylim)\n",
    "for i in range(num_models):\n",
    "    initstates.append((xlim,i))\n",
    "goalstates =[]\n",
    "for i in range(num_models):\n",
    "    goalstates.append((-1,i))\n",
    "    \n",
    "numdoors = 0\n",
    "for i in range(0,ylim):\n",
    "    s1_xys = [(i,0),(i,ylim-1)]\n",
    "    for s1_xy in s1_xys:\n",
    "        if numdoors<maxdoors:\n",
    "            x = 0 \n",
    "            y = 0 \n",
    "            if (s1_xy[1]==0):\n",
    "                y = -1\n",
    "            else:\n",
    "                y = 1\n",
    "            s2_xy = (s1_xy[0] + x,s1_xy[1]+y)\n",
    "            isInRange = inRangeD(s2_xy,xlim,ylim)\n",
    "            if isInRange:\n",
    "                goalstates.append(s2_xy)\n",
    "                numdoors=numdoors+1\n",
    "        else:\n",
    "            break\n",
    "goalstates.append((xlim/2,ylim/2))\n",
    "                    \n",
    "#goalstates = [(0,ylim-1),(1,ylim-1),(2,ylim-1),(3,ylim-1),(xlim/2,ylim/2)]\n"
   ]
  },
  {
   "cell_type": "code",
   "execution_count": 433,
   "metadata": {},
   "outputs": [
    {
     "name": "stdout",
     "output_type": "stream",
     "text": [
      "[(-1, 0), (-1, 1), (-1, 2), (0, -1), (2, 2)]\n"
     ]
    }
   ],
   "source": [
    "\n",
    "print goalstates\n",
    "\n",
    "\n"
   ]
  },
  {
   "cell_type": "code",
   "execution_count": 434,
   "metadata": {},
   "outputs": [
    {
     "name": "stdout",
     "output_type": "stream",
     "text": [
      "Adding Basic Box\n",
      "(0, 0)\n",
      "Adding (0, 0) at ind 0\n",
      "True\n",
      "Adding (0, 1) at ind 1\n",
      "Adding (1, 0) at ind 2\n",
      "Adding (1, 1) at ind 3\n",
      "(0, 1)\n",
      "True\n",
      "Adding (0, 2) at ind 4\n",
      "Adding (1, 2) at ind 5\n",
      "(0, 2)\n",
      "True\n",
      "Adding (0, 3) at ind 6\n",
      "Adding (1, 3) at ind 7\n",
      "(0, 3)\n",
      "True\n",
      "(1, 0)\n",
      "True\n",
      "Adding (2, 0) at ind 8\n",
      "Adding (2, 1) at ind 9\n",
      "(1, 1)\n",
      "True\n",
      "Adding (2, 2) at ind 10\n",
      "(1, 2)\n",
      "True\n",
      "Adding (2, 3) at ind 11\n",
      "(1, 3)\n",
      "True\n",
      "(2, 0)\n",
      "True\n",
      "Adding (3, 0) at ind 12\n",
      "Adding (3, 1) at ind 13\n",
      "(2, 1)\n",
      "True\n",
      "Adding (3, 2) at ind 14\n",
      "(2, 2)\n",
      "True\n",
      "Adding (3, 3) at ind 15\n",
      "(2, 3)\n",
      "True\n",
      "(3, 0)\n",
      "True\n",
      "(3, 1)\n",
      "True\n",
      "(3, 2)\n",
      "True\n",
      "(3, 3)\n",
      "True\n",
      "{0: (0, 0), 1: (0, 1), 2: (1, 0), 3: (1, 1), 4: (0, 2), 5: (1, 2), 6: (0, 3), 7: (1, 3), 8: (2, 0), 9: (2, 1), 10: (2, 2), 11: (2, 3), 12: (3, 0), 13: (3, 1), 14: (3, 2), 15: (3, 3)}\n",
      "{(0, 1): 1, (1, 2): 5, (3, 2): 14, (0, 0): 0, (3, 3): 15, (3, 0): 12, (3, 1): 13, (0, 3): 6, (0, 2): 4, (2, 0): 8, (1, 3): 7, (2, 3): 11, (2, 1): 9, (2, 2): 10, (1, 0): 2, (1, 1): 3}\n",
      "84\n",
      "Adding Fringes\n",
      "Adding (-1, 0) at ind 16\n",
      "Adding (4, 0) at ind 17\n",
      "Adding (-1, 1) at ind 18\n",
      "Adding (4, 1) at ind 19\n",
      "Adding (-1, 2) at ind 20\n",
      "Adding (4, 2) at ind 21\n",
      "Adding (-1, 3) at ind 22\n",
      "Adding (4, 3) at ind 23\n",
      "{0: (0, 0), 1: (0, 1), 2: (1, 0), 3: (1, 1), 4: (0, 2), 5: (1, 2), 6: (0, 3), 7: (1, 3), 8: (2, 0), 9: (2, 1), 10: (2, 2), 11: (2, 3), 12: (3, 0), 13: (3, 1), 14: (3, 2), 15: (3, 3), 16: (-1, 0), 17: (4, 0), 18: (-1, 1), 19: (4, 1), 20: (-1, 2), 21: (4, 2), 22: (-1, 3), 23: (4, 3)}\n",
      "{(1, 3): 7, (-1, 0): 16, (3, 0): 12, (2, 1): 9, (0, 3): 6, (4, 0): 17, (1, 2): 5, (-1, 1): 18, (3, 3): 15, (2, 2): 10, (4, 1): 19, (1, 1): 3, (3, 2): 14, (0, 0): 0, (-1, 2): 20, (2, 3): 11, (4, 2): 21, (1, 0): 2, (0, 1): 1, (-1, 3): 22, (3, 1): 13, (2, 0): 8, (4, 3): 23, (0, 2): 4}\n",
      "92\n",
      "Adding Doors\n",
      "Adding door (0, 0) - (0, -1)\n",
      "Adding (0, -1) at ind 24\n",
      "{0: (0, 0), 1: (0, 1), 2: (1, 0), 3: (1, 1), 4: (0, 2), 5: (1, 2), 6: (0, 3), 7: (1, 3), 8: (2, 0), 9: (2, 1), 10: (2, 2), 11: (2, 3), 12: (3, 0), 13: (3, 1), 14: (3, 2), 15: (3, 3), 16: (-1, 0), 17: (4, 0), 18: (-1, 1), 19: (4, 1), 20: (-1, 2), 21: (4, 2), 22: (-1, 3), 23: (4, 3), 24: (0, -1)}\n",
      "{(1, 3): 7, (-1, 0): 16, (3, 0): 12, (2, 1): 9, (0, 3): 6, (4, 0): 17, (1, 2): 5, (-1, 1): 18, (3, 3): 15, (2, 2): 10, (4, 1): 19, (1, 1): 3, (3, 2): 14, (0, 0): 0, (-1, 2): 20, (2, 3): 11, (4, 2): 21, (1, 0): 2, (0, 1): 1, (-1, 3): 22, (3, 1): 13, (2, 0): 8, (4, 3): 23, (0, -1): 24, (0, 2): 4}\n",
      "93\n",
      "(4, 0)\n",
      "17\n",
      "(4, 1)\n",
      "19\n",
      "(4, 2)\n",
      "21\n"
     ]
    },
    {
     "data": {
      "image/png": "[encoded data removed]",
      "text/plain": [
       "<matplotlib.figure.Figure at 0x7f7c2495d910>"
      ]
     },
     "metadata": {},
     "output_type": "display_data"
    },
    {
     "data": {
      "image/png": "[encoded data removed]",
      "text/plain": [
       "<matplotlib.figure.Figure at 0x7f7c243c8650>"
      ]
     },
     "metadata": {},
     "output_type": "display_data"
    },
    {
     "data": {
      "image/png": "[encoded data removed]",
      "text/plain": [
       "<matplotlib.figure.Figure at 0x7f7c24886a50>"
      ]
     },
     "metadata": {},
     "output_type": "display_data"
    }
   ],
   "source": [
    "(module_lines,reward_lines,label_lines,ind,flat_rep_xy_ind) = create_model(xlim,ylim,maxdoors)\n",
    "initstates_string = \"\"\n",
    "for i in range(num_models):\n",
    "    initstate_ind = flat_rep_xy_ind[initstates[i]]\n",
    "    print initstates[i]\n",
    "    print initstate_ind\n",
    "    initstates_string+=str(initstate_ind)+\",\"\n",
    "    write_model(folder,fn_name+str(i)+fn_ext,initstate_ind,ind,maxdoors,module_lines,reward_lines,label_lines)\n",
    "#partial(R{\"time\"}min=? [ F ( \"v5\" & (F \"v4\" ))],Pmax=? [F \"v3\"],Pmax=? [F \"v6\"] ,Pmax=?[G (!\"v7\")] )\n"
   ]
  },
  {
   "cell_type": "code",
   "execution_count": 435,
   "metadata": {},
   "outputs": [
    {
     "name": "stdout",
     "output_type": "stream",
     "text": [
      "partial(R{\"Time\"}min=?[ F \"v16\" ] ,Pmax=? [ F \"v18\" ] ,Pmax=? [ F \"v20\" ] ,Pmax=? [ F \"v24\" ] ,Pmax=? [G (!\"v10\")])\n",
      "17,19,21,\n"
     ]
    }
   ],
   "source": [
    "goalstring = 'partial(R{\"Time\"}min=?'\n",
    "for i in range(len(goalstates)-1):\n",
    "    goalstate_ind=flat_rep_xy_ind[goalstates[i]]\n",
    "    goalstring+='[ F \"v%d\" ] ,Pmax=? ' % goalstate_ind\n",
    "goalstate_ind = flat_rep_xy_ind[goalstates[len(goalstates)-1]]\n",
    "goalstring+='[G (!\"v%d\")])' % goalstate_ind\n",
    "print goalstring\n",
    "print initstates_string\n",
    "with open(folder+fn_name+\".prop\",\"w\") as f:\n",
    "    f.write(goalstring)"
   ]
  },
  {
   "cell_type": "code",
   "execution_count": null,
   "metadata": {},
   "outputs": [],
   "source": []
  },
  {
   "cell_type": "code",
   "execution_count": null,
   "metadata": {},
   "outputs": [],
   "source": []
  },
  {
   "cell_type": "code",
   "execution_count": null,
   "metadata": {},
   "outputs": [],
   "source": []
  },
  {
   "cell_type": "code",
   "execution_count": null,
   "metadata": {},
   "outputs": [],
   "source": []
  }
 ],
 "metadata": {
  "kernelspec": {
   "display_name": "Python 2",
   "language": "python",
   "name": "python2"
  },
  "language_info": {
   "codemirror_mode": {
    "name": "ipython",
    "version": 2
   },
   "file_extension": ".py",
   "mimetype": "text/x-python",
   "name": "python",
   "nbconvert_exporter": "python",
   "pygments_lexer": "ipython2",
   "version": "2.7.12"
  }
 },
 "nbformat": 4,
 "nbformat_minor": 2
}
