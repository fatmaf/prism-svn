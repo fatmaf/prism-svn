{
 "cells": [
  {
   "cell_type": "code",
   "execution_count": 1,
   "metadata": {},
   "outputs": [],
   "source": [
    "folder = '../decomp_tests/IROS_2018_final_submission/'; \n",
    "filename = 'res.csv'\n",
    "fix_tasks = True \n",
    "res_lines = []"
   ]
  },
  {
   "cell_type": "code",
   "execution_count": 2,
   "metadata": {},
   "outputs": [],
   "source": [
    "import csv\n",
    "with open(folder+filename) as csvfile:\n",
    "    reader = csv.DictReader(csvfile,delimiter='\\t')\n",
    "    for row in reader:\n",
    "        res_lines.append(row)\n"
   ]
  },
  {
   "cell_type": "code",
   "execution_count": 3,
   "metadata": {},
   "outputs": [],
   "source": [
    "#get the comptime \n",
    "def add_all_instances(res_lines,row_name):\n",
    "    fs_vals = [5,10,15,20,25]\n",
    "    allvals=0\n",
    "    for line in res_lines:\n",
    "        allvals=allvals+int(line[row_name])\n",
    "    return allvals"
   ]
  },
  {
   "cell_type": "code",
   "execution_count": 12,
   "metadata": {},
   "outputs": [
    {
     "name": "stdout",
     "output_type": "stream",
     "text": [
      "TotalTime: 13787003\n",
      "TotalTime: 229.783333333 mins\n",
      "TotalTime: 3.82972222222 h\n",
      "SE: 11796\n",
      "SE: 0.183333333333 mins\n",
      "SE: 0.00305555555556 h\n",
      "TeamTime: 113606\n",
      "TeamTime: 1.88333333333 mins\n",
      "TeamTime: 0.0313888888889 h\n"
     ]
    }
   ],
   "source": [
    "#test \n",
    "num_robots = ['4','8']\n",
    "headers = ['TotalTime','SE','TeamTime']\n",
    "for header in headers:\n",
    "    res = add_all_instances(res_lines,header)\n",
    "    print header+\": \"+str(res)\n",
    "    resdev = res/1000\n",
    "    resdev = float(resdev)/60.0\n",
    "    print header+\": \"+str(resdev)+\" mins\"\n",
    "    print header+\": \"+str(resdev/60.0)+\" h\""
   ]
  },
  {
   "cell_type": "code",
   "execution_count": null,
   "metadata": {},
   "outputs": [],
   "source": []
  }
 ],
 "metadata": {
  "kernelspec": {
   "display_name": "Python 2",
   "language": "python",
   "name": "python2"
  },
  "language_info": {
   "codemirror_mode": {
    "name": "ipython",
    "version": 2
   },
   "file_extension": ".py",
   "mimetype": "text/x-python",
   "name": "python",
   "nbconvert_exporter": "python",
   "pygments_lexer": "ipython2",
   "version": "2.7.12"
  }
 },
 "nbformat": 4,
 "nbformat_minor": 2
}
